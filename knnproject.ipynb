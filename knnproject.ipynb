{
  "nbformat": 4,
  "nbformat_minor": 0,
  "metadata": {
    "colab": {
      "provenance": []
    },
    "kernelspec": {
      "name": "python3",
      "display_name": "Python 3"
    },
    "language_info": {
      "name": "python"
    }
  },
  "cells": [
    {
      "cell_type": "code",
      "source": [
        "import numpy as np\n",
        "import pandas as pd\n",
        "from sklearn.model_selection import train_test_split\n",
        "from sklearn.neighbors import KNeighborsClassifier\n",
        "from sklearn.metrics import accuracy_score\n",
        "\n",
        "# Load the dataset\n",
        "data = pd.read_csv(\"/content/Breast_cancer_data.csv\")  # Replace \"your_dataset.csv\" with your dataset file\n",
        "\n",
        "# Extract features and labels\n",
        "X = data.drop(\"diagnosis\", axis=1)\n",
        "y = data[\"diagnosis\"]\n",
        "\n",
        "# Split the dataset into a training set and a testing set\n",
        "X_train, X_test, y_train, y_test = train_test_split(X, y, test_size=0.2, random_state=42)\n",
        "\n",
        "# Implement bootstrapping\n",
        "num_bootstraps = 100  # You can adjust the number of bootstraps\n",
        "\n",
        "bootstrap_samples = []\n",
        "for _ in range(num_bootstraps):\n",
        "    bootstrap_indices = np.random.choice(len(X_train), size=len(X_train), replace=True)\n",
        "    bootstrap_X = X_train.iloc[bootstrap_indices]\n",
        "    bootstrap_y = y_train.iloc[bootstrap_indices]\n",
        "    bootstrap_samples.append((bootstrap_X, bootstrap_y))\n",
        "\n",
        "# Perform KNN classification for each bootstrap sample\n",
        "knn_classifiers = []\n",
        "\n",
        "for bootstrap_X, bootstrap_y in bootstrap_samples:\n",
        "    knn = KNeighborsClassifier(n_neighbors=5)  # You can adjust the number of neighbors\n",
        "    knn.fit(bootstrap_X, bootstrap_y)\n",
        "    y_pred = knn.predict(X_test)\n",
        "    knn_classifiers.append((knn, y_pred))\n",
        "\n",
        "# Evaluate the performance of each KNN classifier using the test data and record the accuracy for each iteration\n",
        "accuracies = []\n",
        "for knn, y_pred in knn_classifiers:\n",
        "    accuracy = accuracy_score(y_test, y_pred)\n",
        "    accuracies.append(accuracy)\n",
        "\n",
        "# Analyze the distribution of accuracies and make inferences about the performance\n",
        "mean_accuracy = np.mean(accuracies)\n",
        "std_accuracy = np.std(accuracies)\n",
        "\n",
        "print(\"Mean Accuracy:\", mean_accuracy)\n",
        "print(\"Standard Deviation of Accuracy:\", std_accuracy)\n"
      ],
      "metadata": {
        "colab": {
          "base_uri": "https://localhost:8080/"
        },
        "id": "OppJQcwyQfPX",
        "outputId": "c1384660-6b95-4e1f-a7b6-2b7da2bdbaa9"
      },
      "execution_count": 2,
      "outputs": [
        {
          "output_type": "stream",
          "name": "stdout",
          "text": [
            "Mean Accuracy: 0.8943859649122805\n",
            "Standard Deviation of Accuracy: 0.023924061661376533\n"
          ]
        }
      ]
    }
  ]
}